{
 "cells": [
  {
   "cell_type": "markdown",
   "metadata": {},
   "source": [
    "# $P(A)$ and its complement $P(A')$"
   ]
  },
  {
   "cell_type": "markdown",
   "metadata": {},
   "source": [
    "## Theory\n",
    "Let's consider the probability of an event $A$ occurring. This event either occurs or it does not occur.\n",
    "<br>The probability of event $A$ occurring is noted $P(A)$.\n",
    "<br>A probability function may only return values between 0 and 1 inclusive: $0 \\leqslant P(A) \\leqslant 1$. \n",
    "<br>When the value of $P(A)$ is $0$, the event $A$ is impossible (it can not occur) and this can be noted: $P(A) = \\varnothing$.\n",
    "<br>When the value of $P(A)$ is $1$, the event $A$ is certain (it can only occur) and this can be noted: $P(A) = U$.\n",
    "<br>The probability that event $A$ does not occur is known as the complement of $A$. It is noted $A'$.\n",
    "<br>By definition, the complement of $P(A) = P(A') = 1 - P(A)$.\n",
    "<br>Because it is certain that $A$ either occurs or does not occur: $P(A) + P(A') = 1 = U$.\n",
    "<br>Finally, $A$ is certain if and only if $A'$ is impossible and vice-versa. $P(A) = \\varnothing \\leftrightarrow P(A') = U$ and $P(A) = U \\leftrightarrow P(A') = \\varnothing$.\n"
   ]
  },
  {
   "cell_type": "markdown",
   "metadata": {},
   "source": [
    "## Instructions\n",
    "In this notebook, we represent the probability of $A$ and its complement. You may play with the widgets to modify the value of $P(A)$ and $P(A')$."
   ]
  },
  {
   "cell_type": "code",
   "execution_count": 4,
   "metadata": {},
   "outputs": [
    {
     "ename": "ModuleNotFoundError",
     "evalue": "No module named 'nbpresent'",
     "output_type": "error",
     "traceback": [
      "\u001b[1;31m---------------------------------------------------------------------------\u001b[0m",
      "\u001b[1;31mModuleNotFoundError\u001b[0m                       Traceback (most recent call last)",
      "\u001b[1;32m<ipython-input-4-771762443804>\u001b[0m in \u001b[0;36m<module>\u001b[1;34m\u001b[0m\n\u001b[0;32m      1\u001b[0m \u001b[1;31m# Import required libraries\u001b[0m\u001b[1;33m\u001b[0m\u001b[1;33m\u001b[0m\u001b[1;33m\u001b[0m\u001b[0m\n\u001b[1;32m----> 2\u001b[1;33m \u001b[1;32mimport\u001b[0m \u001b[0mnbpresent\u001b[0m\u001b[1;33m\u001b[0m\u001b[1;33m\u001b[0m\u001b[0m\n\u001b[0m\u001b[0;32m      3\u001b[0m \u001b[1;32mimport\u001b[0m \u001b[0mplotly\u001b[0m\u001b[1;33m.\u001b[0m\u001b[0mplotly\u001b[0m \u001b[1;32mas\u001b[0m \u001b[0mpy\u001b[0m\u001b[1;33m\u001b[0m\u001b[1;33m\u001b[0m\u001b[0m\n\u001b[0;32m      4\u001b[0m \u001b[1;32mimport\u001b[0m \u001b[0mplotly\u001b[0m\u001b[1;33m.\u001b[0m\u001b[0mfigure_factory\u001b[0m \u001b[1;32mas\u001b[0m \u001b[0mff\u001b[0m\u001b[1;33m\u001b[0m\u001b[1;33m\u001b[0m\u001b[0m\n\u001b[0;32m      5\u001b[0m \u001b[1;32mimport\u001b[0m \u001b[0mplotly\u001b[0m\u001b[1;33m\u001b[0m\u001b[1;33m\u001b[0m\u001b[0m\n",
      "\u001b[1;31mModuleNotFoundError\u001b[0m: No module named 'nbpresent'"
     ]
    }
   ],
   "source": [
    "# Import required libraries\n",
    "# import nbpresent\n",
    "import plotly.plotly as py\n",
    "import plotly.figure_factory as ff\n",
    "import plotly\n",
    "import ipywidgets as widgets\n",
    "from ipywidgets import interact, interactive, fixed, interact_manual\n",
    "import plotly.graph_objs as go\n",
    "\n",
    "# Set plotly to offline\n",
    "plotly.offline.init_notebook_mode(connected=True)\n",
    "\n",
    "# Prepare the labels that will be displayed on the vertical axis\n",
    "y = ['P(A\\')','P(A)']\n",
    "\n",
    "# Prepare chart styles\n",
    "# The \"range\" style is used to represent the probability space.\n",
    "# For PA and PComplementOfA, the probability space is the parent [0,1] space.\n",
    "rangeStyle = dict(color = 'rgba(100, 100, 100, 0.7)',line = dict(color = 'rgba(50, 50, 50, 0)',width = 0))\n",
    "# The \"probability\" style is used to represent the probability value.\n",
    "probabilityStyle = dict(color = 'rgba(255, 50, 50, 0.8)',line = dict(color = 'rgba(180, 0, 0, 1.0)',width = 3))\n",
    "\n",
    "# This function is called whenever the user plays with the widgets\n",
    "def widgetInteraction(PA, PComplementOfA):\n",
    "        \n",
    "    # Trace 1 is the probability space on the left.\n",
    "    trace1 = go.Bar(\n",
    "        y=y,\n",
    "        x=[PA, 0],\n",
    "        name='Range',\n",
    "        orientation = 'h',\n",
    "        marker = rangeStyle\n",
    "    )\n",
    "    # Trace 2 is the probability.\n",
    "    trace2 = go.Bar(\n",
    "        y=y,\n",
    "        x=[PComplementOfA, PA],\n",
    "        text=['{0:10.2f}'.format(PComplementOfA), '{0:10.2f}'.format(PA)],\n",
    "        textposition = 'auto',\n",
    "        name='Probability',\n",
    "        orientation = 'h',\n",
    "        marker = probabilityStyle\n",
    "    )\n",
    "    # Trace 3 is the probability space on the right.\n",
    "    trace3 = go.Bar(\n",
    "        y=y,\n",
    "        x=[0, PComplementOfA],\n",
    "        name='Range',\n",
    "        orientation = 'h',\n",
    "        marker = rangeStyle\n",
    "    )\n",
    "    # We don't need a space 4 because on the extreme right, the graph will be blank anyway.\n",
    "\n",
    "    data = [trace1, trace2, trace3]\n",
    "    layout = go.Layout(\n",
    "        barmode='stack'\n",
    "    )\n",
    "    \n",
    "    print('P(A) = 1 - P(A\\') = 1 - {0:1.2f} = {1:1.2f}'.format(PA, PComplementOfA))\n",
    "    print('P(A\\') = 1 - P(A) = 1 - {0:1.2f} = {1:1.2f}'.format(PComplementOfA, PA))\n",
    "    print('P(A) + P(A\\') = {0:1.2} + {1:1.2f} = {2:1.2f}'.format(PA, PComplementOfA, PA + PComplementOfA))\n",
    "    if(PA == 0):\n",
    "        print('A is impossible')\n",
    "    if(PA == 1):\n",
    "        print('A is certain')\n",
    "    if(PComplementOfA == 0):\n",
    "        print('A\\' is impossible')\n",
    "    if(PComplementOfA == 1):\n",
    "        print('A\\' is certain')\n",
    "    \n",
    "    # And then we can draw the plot.\n",
    "    fig = go.Figure(data=data, layout=layout)\n",
    "    plotly.offline.iplot(fig, filename='marker-h-bar')\n",
    "\n",
    "# This function will be called whenever the value of the P(A) widget is changed\n",
    "def onWidgetPAUpdate(change):\n",
    "    PANew = change.get('new', widgetPA.value)\n",
    "    PComplementOfA = 1 - PANew\n",
    "    if PComplementOfA != widgetPComplementOfA.value:\n",
    "        widgetPComplementOfA.value = PComplementOfA\n",
    "\n",
    "# This function will be called whenever the value of the P(A') widget is changed\n",
    "def onWidgetPComplementOfAUpdate(change):\n",
    "    PComplementOfANew = change.get('new', widgetPComplementOfA.value)\n",
    "    PA = 1 - PComplementOfANew\n",
    "    if PA != widgetPA.value:\n",
    "        widgetPA.value = PA\n",
    "        \n",
    "# Create the UI widgets for interaaction.\n",
    "widgetPA=widgets.FloatSlider(description='P(A)',min=0,max=1,step=.01,value=.8)\n",
    "widgetPComplementOfA=widgets.FloatSlider(description='P(A\\')',min=0,max=1,step=.01,value=.2) \n",
    "\n",
    "# Configure the event handlers.\n",
    "widgetPA.observe(onWidgetPAUpdate, 'value')\n",
    "widgetPComplementOfA.observe(onWidgetPComplementOfAUpdate, 'value')\n",
    "\n",
    "# Initiate user interaction with the UI.\n",
    "interact(widgetInteraction,\n",
    "         PA=widgetPA,\n",
    "         PComplementOfA=widgetPComplementOfA)\n"
   ]
  },
  {
   "cell_type": "code",
   "execution_count": null,
   "metadata": {},
   "outputs": [],
   "source": []
  },
  {
   "cell_type": "code",
   "execution_count": null,
   "metadata": {},
   "outputs": [],
   "source": []
  }
 ],
 "metadata": {
  "kernelspec": {
   "display_name": "Python 3",
   "language": "python",
   "name": "python3"
  },
  "language_info": {
   "codemirror_mode": {
    "name": "ipython",
    "version": 3
   },
   "file_extension": ".py",
   "mimetype": "text/x-python",
   "name": "python",
   "nbconvert_exporter": "python",
   "pygments_lexer": "ipython3",
   "version": "3.7.1"
  }
 },
 "nbformat": 4,
 "nbformat_minor": 2
}
