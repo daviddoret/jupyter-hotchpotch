{
 "cells": [
  {
   "cell_type": "markdown",
   "metadata": {},
   "source": [
    "# An interactive visual demonstration of Bayes theorem\n",
    "P(A|B)=P(A,B)/P(B)"
   ]
  },
  {
   "cell_type": "markdown",
   "metadata": {},
   "source": []
  },
  {
   "cell_type": "code",
   "execution_count": 20,
   "metadata": {},
   "outputs": [
    {
     "data": {
      "text/html": [
       "<script type=\"text/javascript\">window.PlotlyConfig = {MathJaxConfig: 'local'};</script><script type=\"text/javascript\">if (window.MathJax) {MathJax.Hub.Config({SVG: {font: \"STIX-Web\"}});}</script><script>requirejs.config({paths: { 'plotly': ['https://cdn.plot.ly/plotly-latest.min']},});if(!window._Plotly) {require(['plotly'],function(plotly) {window._Plotly=plotly;});}</script>"
      ],
      "text/vnd.plotly.v1+html": [
       "<script type=\"text/javascript\">window.PlotlyConfig = {MathJaxConfig: 'local'};</script><script type=\"text/javascript\">if (window.MathJax) {MathJax.Hub.Config({SVG: {font: \"STIX-Web\"}});}</script><script>requirejs.config({paths: { 'plotly': ['https://cdn.plot.ly/plotly-latest.min']},});if(!window._Plotly) {require(['plotly'],function(plotly) {window._Plotly=plotly;});}</script>"
      ]
     },
     "metadata": {},
     "output_type": "display_data"
    },
    {
     "data": {
      "application/vnd.jupyter.widget-view+json": {
       "model_id": "86f503ef00ce49d0879530283cfca5e5",
       "version_major": 2,
       "version_minor": 0
      },
      "text/plain": [
       "interactive(children=(FloatSlider(value=0.8, description='P(A)', max=1.0, step=0.01), FloatSlider(value=0.3, d…"
      ]
     },
     "metadata": {},
     "output_type": "display_data"
    },
    {
     "data": {
      "text/plain": [
       "<function __main__.widgetInteraction(PA, PB, PAB)>"
      ]
     },
     "execution_count": 20,
     "metadata": {},
     "output_type": "execute_result"
    }
   ],
   "source": [
    "# Import required libraries\n",
    "import plotly.plotly as py\n",
    "import plotly.figure_factory as ff\n",
    "import plotly\n",
    "import ipywidgets as widgets\n",
    "from ipywidgets import interact, interactive, fixed, interact_manual\n",
    "import plotly.graph_objs as go\n",
    "\n",
    "# Set plotly to offline\n",
    "plotly.offline.init_notebook_mode(connected=True)\n",
    "\n",
    "# Prepare the labels that will be displayed on the vertical axis\n",
    "y = ['P(B|A)','P(A|B)','P(A,B)','P(B)','P(A)']\n",
    "\n",
    "# Prepare chart styles\n",
    "# The \"invisible\" style is used on the top left and top right to create blank space\n",
    "invisibleStyle = dict(color = 'rgba(255, 255, 255, 0.0)',line = dict(color = 'rgba(255, 255, 255, 0.0)',width = 0))\n",
    "# The \"range\" style is used to represent the probability space.\n",
    "# For PA, PB and PAB, the probability space is the parent [0,1] space.\n",
    "# For P(A|B), the probability space is B.\n",
    "# For P(B|A), the probability space is A.\n",
    "rangeStyle = dict(color = 'rgba(100, 100, 100, 0.7)',line = dict(color = 'rgba(50, 50, 50, 0)',width = 0))\n",
    "# The \"probability\" style is used to represent the probability value.\n",
    "probabilityStyle = dict(color = 'rgba(255, 50, 50, 0.8)',line = dict(color = 'rgba(180, 0, 0, 1.0)',width = 3))\n",
    "\n",
    "# This function is called whenever the user plays with the widgets\n",
    "def widgetInteraction(PA, PB, PAB):\n",
    "    \n",
    "    PAgivenB = PAB / PB\n",
    "    PBgivenA = PAB / PA\n",
    "    \n",
    "    # Trace 0 is the out-of-range space on the extreme left.\n",
    "    trace0 = go.Bar(\n",
    "        y=y,\n",
    "        x=[0, PA - PAB, 0, 0, 0],\n",
    "        name='Out of range',\n",
    "        orientation = 'h',\n",
    "        marker = invisibleStyle\n",
    "    )\n",
    "    # Trace 1 is the probability space on the left.\n",
    "    trace1 = go.Bar(\n",
    "        y=y,\n",
    "        x=[PA - PAB, 0, PA - PAB, PA - PAB, 0],\n",
    "        name='Range',\n",
    "        orientation = 'h',\n",
    "        marker = rangeStyle\n",
    "    )\n",
    "    # Trace 2 is the probability.\n",
    "    trace2 = go.Bar(\n",
    "        y=y,\n",
    "        x=[PAB, PAB, PAB, PB, PA],\n",
    "        text=['{0:10.2f}'.format(PBgivenA), '{0:10.2f}'.format(PAgivenB), '{0:10.2f}'.format(PAB), '{0:10.2f}'.format(PB), '{0:10.2f}'.format(PA)],\n",
    "        textposition = 'auto',\n",
    "        name='Probability',\n",
    "        orientation = 'h',\n",
    "        marker = probabilityStyle\n",
    "    )\n",
    "    # Trace 3 is the probability space on the right.\n",
    "    trace3 = go.Bar(\n",
    "        y=y,\n",
    "        x=[0, PB - PAB, 1 - PA, 1 - PB - PA + PAB, 1 - PA],\n",
    "        name='Range',\n",
    "        orientation = 'h',\n",
    "        marker = rangeStyle\n",
    "    )\n",
    "    # We don't need a space 4 because on the extreme right, the graph will be blank anyway.\n",
    "\n",
    "    data = [trace0, trace1, trace2, trace3]\n",
    "    layout = go.Layout(\n",
    "        barmode='stack'\n",
    "    )\n",
    "\n",
    "    # The widget UI for float numbers is not proportional to the min / max values.\n",
    "    # Hence, unfortunately, the P(A,B) widget whose min/max range is constrained\n",
    "    # and may be smaller than P(A) and P(B), the user will get the wrong impression\n",
    "    # that pushing the widget to the top right will yield 1. To partly compensate\n",
    "    # this unfortunate situation, I expressely display the min / max values.\n",
    "    print('{0:10.2f} <= P(A,B) <= {1:10.2f}'.format(getPABmin(PA, PB),getPABmax(PA, PB)))\n",
    "\n",
    "    # And then we can draw the plot.\n",
    "    fig = go.Figure(data=data, layout=layout)\n",
    "    plotly.offline.iplot(fig, filename='marker-h-bar')\n",
    "\n",
    "# This function will be called whenever the value of the PA widget is changed\n",
    "def onWidgetPAUpdate(change):\n",
    "    PB = widgetPB.value\n",
    "    PAB = widgetPAB.value\n",
    "    PANew = change.get('new', widgetPA.value)\n",
    "    PAOld = change.get('old', widgetPA.value)\n",
    "    if(PANew < PAOld):\n",
    "        # A reduction in PA may decrease max PAB\n",
    "        PABMax = getPABmax(PANew, PB)\n",
    "        PAB = min(PAB, PABMax)\n",
    "        if(PAB != widgetPAB.value):\n",
    "            widgetPAB.value = PAB        \n",
    "        if(PABMax != widgetPAB.max):\n",
    "            widgetPAB.max = PABMax\n",
    "    if(PANew > PAOld):\n",
    "        # An increase in PA may increase min PAB and max PAB\n",
    "        PABMin = getPABmin(PANew, PB)\n",
    "        PABMax = getPABmax(PANew, PB)\n",
    "        PAB = min(PAB, PABMax)\n",
    "        PAB = max(PAB, PABMin)\n",
    "        if(PABMax != widgetPAB.max):\n",
    "            widgetPAB.max = PABMax\n",
    "        if(PAB != widgetPAB.value):\n",
    "            widgetPAB.value = PAB        \n",
    "        if(PABMin != widgetPAB.min):\n",
    "            widgetPAB.min = PABMin\n",
    "\n",
    "# This function will be called whenever the value of the PB widget is changed\n",
    "def onWidgetPBUpdate(change):\n",
    "    PA = widgetPA.value\n",
    "    PAB = widgetPAB.value\n",
    "    PBNew = change.get('new', widgetPB.value)\n",
    "    PBOld = change.get('old', widgetPB.value)\n",
    "    if(PBNew < PBOld):\n",
    "        # A reduction in PB may decrease max PAB\n",
    "        PABMax = getPABmax(PA, PBNew)\n",
    "        PAB = min(PAB, PABMax)\n",
    "        if(PAB != widgetPAB.value):\n",
    "            widgetPAB.value = PAB        \n",
    "        if(PABMax != widgetPAB.max):\n",
    "            widgetPAB.max = PABMax\n",
    "    if(PBNew > PBOld):\n",
    "        # An increase in PB may increase min PAB and max PAB\n",
    "        PABMin = getPABmin(PA, PBNew)\n",
    "        PABMax = getPABmax(PA, PBNew)\n",
    "        PAB = min(PAB, PABMax)\n",
    "        PAB = max(PAB, PABMin)\n",
    "        if(PABMax != widgetPAB.max):\n",
    "            widgetPAB.max = PABMax\n",
    "        if(PAB != widgetPAB.value):\n",
    "            widgetPAB.value = PAB        \n",
    "        if(PABMin != widgetPAB.min):\n",
    "            widgetPAB.min = PABMin\n",
    "        \n",
    "# This function will be called whenever the value of the PAB widget is changed\n",
    "def onWidgetPABUpdate(change):\n",
    "    PA = widgetPA.value\n",
    "    PB = widgetPB.value\n",
    "    PABNew = change.get('new', widgetPAB.value)\n",
    "    PABOld = change.get('old', widgetPAB.value)\n",
    "    if(PABNew > PABOld):\n",
    "        # An increase in PAB may increase max PAB\n",
    "        PABMax = getPABmax(PA, PB)\n",
    "        PABNew = widgetPAB.value\n",
    "        PABNew = min(PABNew, PABMax)\n",
    "        if(PABMax != widgetPAB.max):\n",
    "            widgetPAB.max = PABMax\n",
    "        if(PABNew != widgetPAB.value):\n",
    "            widgetPAB.value = PABNew        \n",
    "        \n",
    "def getPABmin(PA, PB):   \n",
    "    return(max(0,(PA + PB) - 1))\n",
    "    \n",
    "def getPABmax(PA, PB):\n",
    "    return(max(getPABmin(PA, PB),min([PA, PB])))\n",
    "\n",
    "# Create the UI widgets for interaaction.\n",
    "widgetPA=widgets.FloatSlider(description='P(A)',min=0,max=1,step=.01,value=.8)\n",
    "widgetPB=widgets.FloatSlider(description='P(B)',min=0,max=1,step=.01,value=.3) \n",
    "widgetPAB=widgets.FloatSlider(description='P(A,B)',min=0,max=1,step=.01,value=.2)\n",
    "\n",
    "# Configure the event handlers.\n",
    "widgetPA.observe(onWidgetPAUpdate, 'value')\n",
    "widgetPB.observe(onWidgetPBUpdate, 'value')\n",
    "widgetPAB.observe(onWidgetPABUpdate, 'value')\n",
    "\n",
    "# Initiate user interaction with the UI.\n",
    "interact(widgetInteraction,\n",
    "         PA=widgetPA,\n",
    "         PB=widgetPB,\n",
    "        PAB=widgetPAB)\n",
    "\n"
   ]
  },
  {
   "cell_type": "code",
   "execution_count": 10,
   "metadata": {},
   "outputs": [
    {
     "data": {
      "text/plain": [
       "4"
      ]
     },
     "execution_count": 10,
     "metadata": {},
     "output_type": "execute_result"
    }
   ],
   "source": [
    "min([4,6])\n"
   ]
  },
  {
   "cell_type": "code",
   "execution_count": null,
   "metadata": {},
   "outputs": [],
   "source": []
  }
 ],
 "metadata": {
  "kernelspec": {
   "display_name": "Python 3",
   "language": "python",
   "name": "python3"
  },
  "language_info": {
   "codemirror_mode": {
    "name": "ipython",
    "version": 3
   },
   "file_extension": ".py",
   "mimetype": "text/x-python",
   "name": "python",
   "nbconvert_exporter": "python",
   "pygments_lexer": "ipython3",
   "version": "3.7.1"
  }
 },
 "nbformat": 4,
 "nbformat_minor": 2
}
